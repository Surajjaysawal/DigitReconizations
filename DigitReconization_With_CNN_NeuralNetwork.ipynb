{
  "nbformat": 4,
  "nbformat_minor": 0,
  "metadata": {
    "colab": {
      "name": "DigitReconization With CNN NeuralNetwork.ipynb",
      "provenance": []
    },
    "kernelspec": {
      "name": "python3",
      "display_name": "Python 3"
    },
    "accelerator": "GPU"
  },
  "cells": [
    {
      "cell_type": "code",
      "metadata": {
        "id": "xu17gOi5dxjX"
      },
      "source": [
        "import pandas as pd \r\n",
        "import numpy as np\r\n",
        "import tensorflow as tf\r\n",
        "from tensorflow import keras\r\n",
        "import matplotlib.pyplot as plt\r\n",
        "from sklearn.model_selection  import train_test_split"
      ],
      "execution_count": 2,
      "outputs": []
    },
    {
      "cell_type": "code",
      "metadata": {
        "id": "JLvE_LGvirWp"
      },
      "source": [
        "train = pd.read_csv(\"train.csv\")\r\n",
        "test = pd.read_csv(\"test.csv\")\r\n",
        "submission = pd.read_csv(\"sample_submission.csv\")"
      ],
      "execution_count": 4,
      "outputs": []
    },
    {
      "cell_type": "code",
      "metadata": {
        "colab": {
          "base_uri": "https://localhost:8080/"
        },
        "id": "U5e8-89UitRO",
        "outputId": "84d2edb0-d658-46af-e7f7-be7b19e0f00f"
      },
      "source": [
        "print(train.head())\r\n",
        "print(test.head())\r\n",
        "print(submission.head())"
      ],
      "execution_count": 5,
      "outputs": [
        {
          "output_type": "stream",
          "text": [
            "   label  pixel0  pixel1  pixel2  ...  pixel780  pixel781  pixel782  pixel783\n",
            "0      1       0       0       0  ...         0         0         0         0\n",
            "1      0       0       0       0  ...         0         0         0         0\n",
            "2      1       0       0       0  ...         0         0         0         0\n",
            "3      4       0       0       0  ...         0         0         0         0\n",
            "4      0       0       0       0  ...         0         0         0         0\n",
            "\n",
            "[5 rows x 785 columns]\n",
            "   pixel0  pixel1  pixel2  pixel3  ...  pixel780  pixel781  pixel782  pixel783\n",
            "0       0       0       0       0  ...         0         0         0         0\n",
            "1       0       0       0       0  ...         0         0         0         0\n",
            "2       0       0       0       0  ...         0         0         0         0\n",
            "3       0       0       0       0  ...         0         0         0         0\n",
            "4       0       0       0       0  ...         0         0         0         0\n",
            "\n",
            "[5 rows x 784 columns]\n",
            "   ImageId  Label\n",
            "0        1      0\n",
            "1        2      0\n",
            "2        3      0\n",
            "3        4      0\n",
            "4        5      0\n"
          ],
          "name": "stdout"
        }
      ]
    },
    {
      "cell_type": "code",
      "metadata": {
        "colab": {
          "base_uri": "https://localhost:8080/"
        },
        "id": "Q3WvreiaitT0",
        "outputId": "24dde8b6-81eb-4cec-a9b3-2a66bda731c1"
      },
      "source": [
        "print(train.shape)\r\n",
        "print(test.shape)"
      ],
      "execution_count": 6,
      "outputs": [
        {
          "output_type": "stream",
          "text": [
            "(42000, 785)\n",
            "(28000, 784)\n"
          ],
          "name": "stdout"
        }
      ]
    },
    {
      "cell_type": "code",
      "metadata": {
        "id": "7L9i8k6CitlT"
      },
      "source": [
        "train = train.astype(float)\r\n",
        "test = test.astype(float)"
      ],
      "execution_count": 7,
      "outputs": []
    },
    {
      "cell_type": "code",
      "metadata": {
        "id": "sgGbNyE9it1E"
      },
      "source": [
        "x = train.drop(columns = ['label'])\r\n",
        "y = train.iloc[:,0]"
      ],
      "execution_count": 8,
      "outputs": []
    },
    {
      "cell_type": "code",
      "metadata": {
        "id": "1JejINa-it4b"
      },
      "source": [
        "x_train,x_test,y_train,y_test = train_test_split(x,y,test_size=0.2, random_state=14)"
      ],
      "execution_count": 10,
      "outputs": []
    },
    {
      "cell_type": "code",
      "metadata": {
        "id": "Y2uY_4a9it68"
      },
      "source": [
        "x_train = x_train/255.0\r\n",
        "x_test = x_test/255.0\r\n",
        "test = test/255.0"
      ],
      "execution_count": 11,
      "outputs": []
    },
    {
      "cell_type": "code",
      "metadata": {
        "id": "jXEhz-rPit9T"
      },
      "source": [
        "x_train = x_train.values.reshape(-1,28,28,1)\r\n",
        "x_test = x_test.values.reshape(-1,28,28,1)\r\n",
        "test = test.values.reshape(-1,28,28,1)"
      ],
      "execution_count": 12,
      "outputs": []
    },
    {
      "cell_type": "code",
      "metadata": {
        "id": "g7Uh2D70it_c"
      },
      "source": [
        "y_train = np.array(y_train)\r\n",
        "y_test = np.array(y_test)"
      ],
      "execution_count": 13,
      "outputs": []
    },
    {
      "cell_type": "code",
      "metadata": {
        "id": "VIdExkEyiuBu"
      },
      "source": [
        "model = tf.keras.models.Sequential([\r\n",
        "  tf.keras.layers.Conv2D(64, (3,3), activation='relu',input_shape=(28,28,1)),\r\n",
        "  tf.keras.layers.MaxPooling2D(2, 2),\r\n",
        "  tf.keras.layers.Conv2D(128,(3,3),activation='relu'),\r\n",
        "  tf.keras.layers.MaxPooling2D(2,2),\r\n",
        "  tf.keras.layers.Flatten(),\r\n",
        "  tf.keras.layers.Dense(1024, activation='relu'),\r\n",
        "  tf.keras.layers.Dense(10, activation='softmax')\r\n",
        "])"
      ],
      "execution_count": 14,
      "outputs": []
    },
    {
      "cell_type": "code",
      "metadata": {
        "colab": {
          "base_uri": "https://localhost:8080/"
        },
        "id": "pNpKw8LpiuGP",
        "outputId": "2b14f849-bc5b-4293-a439-728f160546b1"
      },
      "source": [
        "model.summary()"
      ],
      "execution_count": 15,
      "outputs": [
        {
          "output_type": "stream",
          "text": [
            "Model: \"sequential\"\n",
            "_________________________________________________________________\n",
            "Layer (type)                 Output Shape              Param #   \n",
            "=================================================================\n",
            "conv2d (Conv2D)              (None, 26, 26, 64)        640       \n",
            "_________________________________________________________________\n",
            "max_pooling2d (MaxPooling2D) (None, 13, 13, 64)        0         \n",
            "_________________________________________________________________\n",
            "conv2d_1 (Conv2D)            (None, 11, 11, 128)       73856     \n",
            "_________________________________________________________________\n",
            "max_pooling2d_1 (MaxPooling2 (None, 5, 5, 128)         0         \n",
            "_________________________________________________________________\n",
            "flatten (Flatten)            (None, 3200)              0         \n",
            "_________________________________________________________________\n",
            "dense (Dense)                (None, 1024)              3277824   \n",
            "_________________________________________________________________\n",
            "dense_1 (Dense)              (None, 10)                10250     \n",
            "=================================================================\n",
            "Total params: 3,362,570\n",
            "Trainable params: 3,362,570\n",
            "Non-trainable params: 0\n",
            "_________________________________________________________________\n"
          ],
          "name": "stdout"
        }
      ]
    },
    {
      "cell_type": "code",
      "metadata": {
        "id": "QWadA_MPiuI1"
      },
      "source": [
        "model.compile(optimizer=tf.keras.optimizers.RMSprop(lr=0.001),loss='sparse_categorical_crossentropy', metrics=['accuracy'])"
      ],
      "execution_count": 16,
      "outputs": []
    },
    {
      "cell_type": "code",
      "metadata": {
        "colab": {
          "base_uri": "https://localhost:8080/"
        },
        "id": "IvzJuXkeiuNr",
        "outputId": "5c3a59a7-f180-4ba0-932b-221b19a4b4bc"
      },
      "source": [
        "history = model.fit(x_train,y_train ,epochs = 50,validation_data=(x_test,y_test))"
      ],
      "execution_count": 17,
      "outputs": [
        {
          "output_type": "stream",
          "text": [
            "Epoch 1/50\n",
            "1050/1050 [==============================] - 12s 5ms/step - loss: 0.2925 - accuracy: 0.9046 - val_loss: 0.0518 - val_accuracy: 0.9827\n",
            "Epoch 2/50\n",
            "1050/1050 [==============================] - 4s 4ms/step - loss: 0.0407 - accuracy: 0.9880 - val_loss: 0.0702 - val_accuracy: 0.9788\n",
            "Epoch 3/50\n",
            "1050/1050 [==============================] - 5s 4ms/step - loss: 0.0292 - accuracy: 0.9916 - val_loss: 0.0803 - val_accuracy: 0.9823\n",
            "Epoch 4/50\n",
            "1050/1050 [==============================] - 5s 4ms/step - loss: 0.0208 - accuracy: 0.9940 - val_loss: 0.0696 - val_accuracy: 0.9832\n",
            "Epoch 5/50\n",
            "1050/1050 [==============================] - 5s 4ms/step - loss: 0.0202 - accuracy: 0.9952 - val_loss: 0.0683 - val_accuracy: 0.9865\n",
            "Epoch 6/50\n",
            "1050/1050 [==============================] - 5s 4ms/step - loss: 0.0146 - accuracy: 0.9963 - val_loss: 0.0738 - val_accuracy: 0.9823\n",
            "Epoch 7/50\n",
            "1050/1050 [==============================] - 5s 4ms/step - loss: 0.0129 - accuracy: 0.9967 - val_loss: 0.0652 - val_accuracy: 0.9849\n",
            "Epoch 8/50\n",
            "1050/1050 [==============================] - 5s 4ms/step - loss: 0.0124 - accuracy: 0.9969 - val_loss: 0.0781 - val_accuracy: 0.9890\n",
            "Epoch 9/50\n",
            "1050/1050 [==============================] - 5s 4ms/step - loss: 0.0084 - accuracy: 0.9974 - val_loss: 0.1262 - val_accuracy: 0.9858\n",
            "Epoch 10/50\n",
            "1050/1050 [==============================] - 5s 4ms/step - loss: 0.0089 - accuracy: 0.9980 - val_loss: 0.1098 - val_accuracy: 0.9844\n",
            "Epoch 11/50\n",
            "1050/1050 [==============================] - 5s 4ms/step - loss: 0.0080 - accuracy: 0.9984 - val_loss: 0.0989 - val_accuracy: 0.9876\n",
            "Epoch 12/50\n",
            "1050/1050 [==============================] - 5s 4ms/step - loss: 0.0064 - accuracy: 0.9987 - val_loss: 0.0919 - val_accuracy: 0.9874\n",
            "Epoch 13/50\n",
            "1050/1050 [==============================] - 5s 4ms/step - loss: 0.0062 - accuracy: 0.9985 - val_loss: 0.1143 - val_accuracy: 0.9902\n",
            "Epoch 14/50\n",
            "1050/1050 [==============================] - 5s 4ms/step - loss: 0.0054 - accuracy: 0.9992 - val_loss: 0.1033 - val_accuracy: 0.9880\n",
            "Epoch 15/50\n",
            "1050/1050 [==============================] - 5s 4ms/step - loss: 0.0030 - accuracy: 0.9990 - val_loss: 0.1040 - val_accuracy: 0.9890\n",
            "Epoch 16/50\n",
            "1050/1050 [==============================] - 5s 4ms/step - loss: 0.0086 - accuracy: 0.9985 - val_loss: 0.1582 - val_accuracy: 0.9889\n",
            "Epoch 17/50\n",
            "1050/1050 [==============================] - 5s 4ms/step - loss: 0.0047 - accuracy: 0.9987 - val_loss: 0.1231 - val_accuracy: 0.9898\n",
            "Epoch 18/50\n",
            "1050/1050 [==============================] - 5s 4ms/step - loss: 0.0023 - accuracy: 0.9995 - val_loss: 0.1662 - val_accuracy: 0.9886\n",
            "Epoch 19/50\n",
            "1050/1050 [==============================] - 5s 4ms/step - loss: 0.0042 - accuracy: 0.9992 - val_loss: 0.1748 - val_accuracy: 0.9889\n",
            "Epoch 20/50\n",
            "1050/1050 [==============================] - 5s 4ms/step - loss: 0.0011 - accuracy: 0.9996 - val_loss: 0.2162 - val_accuracy: 0.9888\n",
            "Epoch 21/50\n",
            "1050/1050 [==============================] - 5s 4ms/step - loss: 0.0030 - accuracy: 0.9994 - val_loss: 0.2010 - val_accuracy: 0.9889\n",
            "Epoch 22/50\n",
            "1050/1050 [==============================] - 5s 4ms/step - loss: 0.0021 - accuracy: 0.9996 - val_loss: 0.2483 - val_accuracy: 0.9879\n",
            "Epoch 23/50\n",
            "1050/1050 [==============================] - 5s 4ms/step - loss: 0.0056 - accuracy: 0.9994 - val_loss: 0.1794 - val_accuracy: 0.9882\n",
            "Epoch 24/50\n",
            "1050/1050 [==============================] - 5s 4ms/step - loss: 0.0019 - accuracy: 0.9996 - val_loss: 0.2016 - val_accuracy: 0.9880\n",
            "Epoch 25/50\n",
            "1050/1050 [==============================] - 5s 4ms/step - loss: 9.9185e-04 - accuracy: 0.9998 - val_loss: 0.1788 - val_accuracy: 0.9888\n",
            "Epoch 26/50\n",
            "1050/1050 [==============================] - 5s 4ms/step - loss: 0.0019 - accuracy: 0.9997 - val_loss: 0.2263 - val_accuracy: 0.9899\n",
            "Epoch 27/50\n",
            "1050/1050 [==============================] - 5s 4ms/step - loss: 3.7611e-04 - accuracy: 1.0000 - val_loss: 0.2276 - val_accuracy: 0.9904\n",
            "Epoch 28/50\n",
            "1050/1050 [==============================] - 5s 4ms/step - loss: 0.0014 - accuracy: 0.9998 - val_loss: 0.1842 - val_accuracy: 0.9902\n",
            "Epoch 29/50\n",
            "1050/1050 [==============================] - 5s 4ms/step - loss: 0.0018 - accuracy: 0.9998 - val_loss: 0.2319 - val_accuracy: 0.9893\n",
            "Epoch 30/50\n",
            "1050/1050 [==============================] - 5s 4ms/step - loss: 0.0035 - accuracy: 0.9998 - val_loss: 0.2040 - val_accuracy: 0.9899\n",
            "Epoch 31/50\n",
            "1050/1050 [==============================] - 5s 4ms/step - loss: 5.6474e-05 - accuracy: 1.0000 - val_loss: 0.2326 - val_accuracy: 0.9899\n",
            "Epoch 32/50\n",
            "1050/1050 [==============================] - 5s 4ms/step - loss: 8.6260e-04 - accuracy: 0.9999 - val_loss: 0.2427 - val_accuracy: 0.9890\n",
            "Epoch 33/50\n",
            "1050/1050 [==============================] - 5s 4ms/step - loss: 0.0042 - accuracy: 0.9994 - val_loss: 0.2126 - val_accuracy: 0.9904\n",
            "Epoch 34/50\n",
            "1050/1050 [==============================] - 5s 4ms/step - loss: 8.2831e-04 - accuracy: 0.9998 - val_loss: 0.2516 - val_accuracy: 0.9899\n",
            "Epoch 35/50\n",
            "1050/1050 [==============================] - 5s 4ms/step - loss: 0.0038 - accuracy: 0.9997 - val_loss: 0.2288 - val_accuracy: 0.9885\n",
            "Epoch 36/50\n",
            "1050/1050 [==============================] - 5s 4ms/step - loss: 0.0012 - accuracy: 0.9998 - val_loss: 0.2794 - val_accuracy: 0.9890\n",
            "Epoch 37/50\n",
            "1050/1050 [==============================] - 5s 4ms/step - loss: 0.0019 - accuracy: 0.9997 - val_loss: 0.2461 - val_accuracy: 0.9893\n",
            "Epoch 38/50\n",
            "1050/1050 [==============================] - 5s 4ms/step - loss: 0.0021 - accuracy: 0.9997 - val_loss: 0.2720 - val_accuracy: 0.9892\n",
            "Epoch 39/50\n",
            "1050/1050 [==============================] - 5s 4ms/step - loss: 0.0026 - accuracy: 0.9997 - val_loss: 0.3028 - val_accuracy: 0.9880\n",
            "Epoch 40/50\n",
            "1050/1050 [==============================] - 5s 4ms/step - loss: 0.0038 - accuracy: 0.9995 - val_loss: 0.2218 - val_accuracy: 0.9904\n",
            "Epoch 41/50\n",
            "1050/1050 [==============================] - 5s 4ms/step - loss: 9.8757e-04 - accuracy: 0.9998 - val_loss: 0.2153 - val_accuracy: 0.9890\n",
            "Epoch 42/50\n",
            "1050/1050 [==============================] - 5s 4ms/step - loss: 6.8385e-04 - accuracy: 0.9999 - val_loss: 0.2844 - val_accuracy: 0.9886\n",
            "Epoch 43/50\n",
            "1050/1050 [==============================] - 5s 4ms/step - loss: 6.7511e-05 - accuracy: 1.0000 - val_loss: 0.3082 - val_accuracy: 0.9881\n",
            "Epoch 44/50\n",
            "1050/1050 [==============================] - 5s 4ms/step - loss: 2.1173e-06 - accuracy: 1.0000 - val_loss: 0.3075 - val_accuracy: 0.9875\n",
            "Epoch 45/50\n",
            "1050/1050 [==============================] - 5s 4ms/step - loss: 0.0016 - accuracy: 0.9996 - val_loss: 0.3344 - val_accuracy: 0.9881\n",
            "Epoch 46/50\n",
            "1050/1050 [==============================] - 4s 4ms/step - loss: 4.4621e-04 - accuracy: 0.9999 - val_loss: 0.2565 - val_accuracy: 0.9914\n",
            "Epoch 47/50\n",
            "1050/1050 [==============================] - 5s 4ms/step - loss: 7.3014e-04 - accuracy: 0.9999 - val_loss: 0.2684 - val_accuracy: 0.9904\n",
            "Epoch 48/50\n",
            "1050/1050 [==============================] - 5s 4ms/step - loss: 0.0010 - accuracy: 0.9999 - val_loss: 0.3720 - val_accuracy: 0.9873\n",
            "Epoch 49/50\n",
            "1050/1050 [==============================] - 4s 4ms/step - loss: 6.9549e-05 - accuracy: 1.0000 - val_loss: 0.3061 - val_accuracy: 0.9895\n",
            "Epoch 50/50\n",
            "1050/1050 [==============================] - 5s 4ms/step - loss: 4.5818e-04 - accuracy: 0.9999 - val_loss: 0.3284 - val_accuracy: 0.9889\n"
          ],
          "name": "stdout"
        }
      ]
    },
    {
      "cell_type": "code",
      "metadata": {
        "id": "4YPHpFuUiuQd"
      },
      "source": [
        ""
      ],
      "execution_count": null,
      "outputs": []
    },
    {
      "cell_type": "code",
      "metadata": {
        "id": "W19LL1thiuS9"
      },
      "source": [
        "Y_pred = model.predict(test)"
      ],
      "execution_count": 18,
      "outputs": []
    },
    {
      "cell_type": "code",
      "metadata": {
        "colab": {
          "base_uri": "https://localhost:8080/"
        },
        "id": "J3iWv_wZiuVO",
        "outputId": "5fc04a4d-8a07-44c1-e7bd-9f84e9629055"
      },
      "source": [
        "Y_pred"
      ],
      "execution_count": 19,
      "outputs": [
        {
          "output_type": "execute_result",
          "data": {
            "text/plain": [
              "array([[0., 0., 1., ..., 0., 0., 0.],\n",
              "       [1., 0., 0., ..., 0., 0., 0.],\n",
              "       [0., 0., 0., ..., 0., 0., 1.],\n",
              "       ...,\n",
              "       [0., 0., 0., ..., 0., 0., 0.],\n",
              "       [0., 0., 0., ..., 0., 0., 1.],\n",
              "       [0., 0., 1., ..., 0., 0., 0.]], dtype=float32)"
            ]
          },
          "metadata": {
            "tags": []
          },
          "execution_count": 19
        }
      ]
    },
    {
      "cell_type": "code",
      "metadata": {
        "id": "V6JjePBdiuZs"
      },
      "source": [
        "Y_pred=[np.argmax(i) for i in Y_pred]"
      ],
      "execution_count": 21,
      "outputs": []
    },
    {
      "cell_type": "code",
      "metadata": {
        "id": "8_6wljUbiucV"
      },
      "source": [
        "Predictions = pd.DataFrame({'ImageId' : (i+1 for i in range(len(Y_pred))) , 'Label' : Y_pred})"
      ],
      "execution_count": 22,
      "outputs": []
    },
    {
      "cell_type": "code",
      "metadata": {
        "colab": {
          "base_uri": "https://localhost:8080/",
          "height": 195
        },
        "id": "DE3snexgiufF",
        "outputId": "9ea6bb80-b88b-47e3-fe3e-67af4f23dda9"
      },
      "source": [
        "Predictions.head()"
      ],
      "execution_count": 23,
      "outputs": [
        {
          "output_type": "execute_result",
          "data": {
            "text/html": [
              "<div>\n",
              "<style scoped>\n",
              "    .dataframe tbody tr th:only-of-type {\n",
              "        vertical-align: middle;\n",
              "    }\n",
              "\n",
              "    .dataframe tbody tr th {\n",
              "        vertical-align: top;\n",
              "    }\n",
              "\n",
              "    .dataframe thead th {\n",
              "        text-align: right;\n",
              "    }\n",
              "</style>\n",
              "<table border=\"1\" class=\"dataframe\">\n",
              "  <thead>\n",
              "    <tr style=\"text-align: right;\">\n",
              "      <th></th>\n",
              "      <th>ImageId</th>\n",
              "      <th>Label</th>\n",
              "    </tr>\n",
              "  </thead>\n",
              "  <tbody>\n",
              "    <tr>\n",
              "      <th>0</th>\n",
              "      <td>1</td>\n",
              "      <td>2</td>\n",
              "    </tr>\n",
              "    <tr>\n",
              "      <th>1</th>\n",
              "      <td>2</td>\n",
              "      <td>0</td>\n",
              "    </tr>\n",
              "    <tr>\n",
              "      <th>2</th>\n",
              "      <td>3</td>\n",
              "      <td>9</td>\n",
              "    </tr>\n",
              "    <tr>\n",
              "      <th>3</th>\n",
              "      <td>4</td>\n",
              "      <td>9</td>\n",
              "    </tr>\n",
              "    <tr>\n",
              "      <th>4</th>\n",
              "      <td>5</td>\n",
              "      <td>3</td>\n",
              "    </tr>\n",
              "  </tbody>\n",
              "</table>\n",
              "</div>"
            ],
            "text/plain": [
              "   ImageId  Label\n",
              "0        1      2\n",
              "1        2      0\n",
              "2        3      9\n",
              "3        4      9\n",
              "4        5      3"
            ]
          },
          "metadata": {
            "tags": []
          },
          "execution_count": 23
        }
      ]
    },
    {
      "cell_type": "code",
      "metadata": {
        "id": "DQn71YP6o0Pm"
      },
      "source": [
        "Submission_1 = Predictions.to_csv('Submission_1.csv',index=False)"
      ],
      "execution_count": 24,
      "outputs": []
    }
  ]
}